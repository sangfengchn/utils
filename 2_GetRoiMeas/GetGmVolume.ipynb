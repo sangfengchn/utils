{
 "cells": [
  {
   "cell_type": "code",
   "execution_count": 12,
   "metadata": {},
   "outputs": [
    {
     "name": "stdout",
     "output_type": "stream",
     "text": [
      "Network 0\n",
      "Network 1\n",
      "Network 2\n",
      "Network 3\n",
      "Network 4\n",
      "Network 5\n",
      "Network 6\n",
      "Network 7\n",
      "Network -1\n"
     ]
    }
   ],
   "source": [
    "import nibabel as nib\n",
    "import numpy as np\n",
    "import pandas as pd\n",
    "\n",
    "img = nib.load('tpl-MNI152NLin2009cAsym_res-01_atlas-Brainnetome_desc-BNA246_dseg.nii.gz')\n",
    "dat = img.get_fdata()\n",
    "df = pd.read_excel('tpl-MNI152NLin2009cAsym_atlas-Brainnetome_desc-BNA246_dseg.xlsx', header=0)\n",
    "df.head()\n",
    "\n",
    "newDat = np.zeros(shape = dat.shape)\n",
    "for i in set(df['Yeo_7network'].values):\n",
    "    print(f'Network {i}')\n",
    "    tmpDf = df.loc[df['Yeo_7network'] == i,]\n",
    "    tmpIdx = tmpDf['index'].values\n",
    "    for j in tmpIdx:\n",
    "        newDat[dat == j] = i\n",
    "nib.save(nib.nifti1.Nifti1Image(newDat, img.affine), 'Atlas-Yeo7network.nii.gz')"
   ]
  },
  {
   "cell_type": "code",
   "execution_count": 34,
   "metadata": {},
   "outputs": [
    {
     "name": "stdout",
     "output_type": "stream",
     "text": [
      "pNC1_mwp1005_S_0223_20060228093013.nii\n"
     ]
    }
   ],
   "source": [
    "import nibabel as nib\n",
    "import numpy as np\n",
    "import pandas as pd\n",
    "from pathlib import Path\n",
    "\n",
    "dat = nib.load('Atlas-Yeo7network_reslice.nii.gz').get_fdata()\n",
    "df = pd.read_csv('Atlas-Yeo7network.csv', header = 0)\n",
    "df\n",
    "folder = Path('data')\n",
    "resDf = pd.DataFrame()\n",
    "for i in folder.glob('*.nii'):\n",
    "    tmpName = i.name\n",
    "    print(tmpName)\n",
    "    tmpDat = nib.load(i).get_fdata()\n",
    "    tmpRow = {'SUBID': [tmpName]}\n",
    "    for j in df['ID'].values:\n",
    "        # voxel size is 1.5 * 1.5 * 1.5 mm3\n",
    "        tmpRow[f'ROI_{j}'] = [np.nansum(tmpDat[dat == j]) * 1.5 * 1.5 * 1.5]\n",
    "    resDf = pd.concat([resDf, pd.DataFrame(tmpRow)], ignore_index=True)\n",
    "resDf.to_excel('ResVolume_Yeo7Network.xlsx', index=False)"
   ]
  },
  {
   "cell_type": "code",
   "execution_count": 31,
   "metadata": {},
   "outputs": [
    {
     "name": "stdout",
     "output_type": "stream",
     "text": [
      "   Column1 Column2\n",
      "0        1       A\n",
      "1        2       B\n",
      "2        3       C\n"
     ]
    }
   ],
   "source": [
    "import pandas as pd\n",
    "\n",
    "# Create an empty DataFrame\n",
    "empty_df = pd.DataFrame()\n",
    "\n",
    "# Create a non-empty DataFrame\n",
    "data = {\n",
    "    'Column1': [1, 2, 3],\n",
    "    'Column2': ['A', 'B', 'C']\n",
    "}\n",
    "non_empty_df = pd.DataFrame(data)\n",
    "\n",
    "# Concatenate the empty DataFrame with the non-empty DataFrame\n",
    "result = pd.concat([empty_df, non_empty_df], ignore_index=True)\n",
    "\n",
    "print(result)\n"
   ]
  }
 ],
 "metadata": {
  "kernelspec": {
   "display_name": "py39",
   "language": "python",
   "name": "python3"
  },
  "language_info": {
   "codemirror_mode": {
    "name": "ipython",
    "version": 3
   },
   "file_extension": ".py",
   "mimetype": "text/x-python",
   "name": "python",
   "nbconvert_exporter": "python",
   "pygments_lexer": "ipython3",
   "version": "3.9.18"
  }
 },
 "nbformat": 4,
 "nbformat_minor": 2
}
